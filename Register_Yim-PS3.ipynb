{
 "cells": [
  {
   "cell_type": "markdown",
   "metadata": {},
   "source": [
    "# Problem Set 3, due February 5 at 5:30 pm\n",
    "\n",
    "###Before You Start\n",
    "\n",
    "Make sure the following libraries load correctly (hit Ctrl-Enter). Note that while you are loading several powerful libraries, including machine learning libraries, the goal of this problem set is to implement several algorithms from scratch. In particular, you should *not* be using any built-in libraries for nearest neighbors, distance metrics, or cross-validation -- your mission is to write those algorithms in Python! Parts 1 and 2 will be relatively easy; Part 3 will take more time.\n",
    "\n",
    "*Also note:* For this assignment we are requiring you to use base **matplotlib** - no more Seaborn or other packages. This will help you become familiar with techniques for maintaining fine-grained control over your data visualizations. It will also help our graders, who spent countless hours trying to make various versions import for grading."
   ]
  },
  {
   "cell_type": "code",
   "execution_count": 1,
   "metadata": {},
   "outputs": [],
   "source": [
    "import IPython\n",
    "import numpy as np\n",
    "import scipy as sp\n",
    "import pandas as pd\n",
    "import matplotlib\n",
    "import sklearn"
   ]
  },
  {
   "cell_type": "markdown",
   "metadata": {},
   "source": [
    "---\n",
    "\n",
    "## Introduction to the assignment\n",
    "\n",
    "For this assignment, you will be using the Boston Housing Prices Data Set.  This used to be housed by [UCI Machine Learning Repository](http://archive.ics.uci.edu/ml/datasets/Housing), but it is not housed there any more. You can read about it at [Kaggle](https://www.kaggle.com/vikrishnan/boston-house-prices) and at the [University of Toronto](https://www.cs.toronto.edu/~delve/data/boston/bostonDetail.html). Please read about the dataset carefully before continuing.  Use the following commands to load the dataset:\n"
   ]
  },
  {
   "cell_type": "code",
   "execution_count": 2,
   "metadata": {},
   "outputs": [],
   "source": [
    "from sklearn.datasets import load_boston\n",
    "bdata = load_boston()"
   ]
  },
  {
   "cell_type": "markdown",
   "metadata": {},
   "source": [
    "The following commands will provide some basic information about the shape of the data:"
   ]
  },
  {
   "cell_type": "code",
   "execution_count": 3,
   "metadata": {},
   "outputs": [
    {
     "name": "stdout",
     "output_type": "stream",
     "text": [
      "dict_keys(['data', 'target', 'feature_names', 'DESCR'])\n",
      "['CRIM' 'ZN' 'INDUS' 'CHAS' 'NOX' 'RM' 'AGE' 'DIS' 'RAD' 'TAX' 'PTRATIO'\n",
      " 'B' 'LSTAT']\n",
      "(506, 13)\n",
      "(506,)\n",
      "Boston House Prices dataset\n",
      "===========================\n",
      "\n",
      "Notes\n",
      "------\n",
      "Data Set Characteristics:  \n",
      "\n",
      "    :Number of Instances: 506 \n",
      "\n",
      "    :Number of Attributes: 13 numeric/categorical predictive\n",
      "    \n",
      "    :Median Value (attribute 14) is usually the target\n",
      "\n",
      "    :Attribute Information (in order):\n",
      "        - CRIM     per capita crime rate by town\n",
      "        - ZN       proportion of residential land zoned for lots over 25,000 sq.ft.\n",
      "        - INDUS    proportion of non-retail business acres per town\n",
      "        - CHAS     Charles River dummy variable (= 1 if tract bounds river; 0 otherwise)\n",
      "        - NOX      nitric oxides concentration (parts per 10 million)\n",
      "        - RM       average number of rooms per dwelling\n",
      "        - AGE      proportion of owner-occupied units built prior to 1940\n",
      "        - DIS      weighted distances to five Boston employment centres\n",
      "        - RAD      index of accessibility to radial highways\n",
      "        - TAX      full-value property-tax rate per $10,000\n",
      "        - PTRATIO  pupil-teacher ratio by town\n",
      "        - B        1000(Bk - 0.63)^2 where Bk is the proportion of blacks by town\n",
      "        - LSTAT    % lower status of the population\n",
      "        - MEDV     Median value of owner-occupied homes in $1000's\n",
      "\n",
      "    :Missing Attribute Values: None\n",
      "\n",
      "    :Creator: Harrison, D. and Rubinfeld, D.L.\n",
      "\n",
      "This is a copy of UCI ML housing dataset.\n",
      "http://archive.ics.uci.edu/ml/datasets/Housing\n",
      "\n",
      "\n",
      "This dataset was taken from the StatLib library which is maintained at Carnegie Mellon University.\n",
      "\n",
      "The Boston house-price data of Harrison, D. and Rubinfeld, D.L. 'Hedonic\n",
      "prices and the demand for clean air', J. Environ. Economics & Management,\n",
      "vol.5, 81-102, 1978.   Used in Belsley, Kuh & Welsch, 'Regression diagnostics\n",
      "...', Wiley, 1980.   N.B. Various transformations are used in the table on\n",
      "pages 244-261 of the latter.\n",
      "\n",
      "The Boston house-price data has been used in many machine learning papers that address regression\n",
      "problems.   \n",
      "     \n",
      "**References**\n",
      "\n",
      "   - Belsley, Kuh & Welsch, 'Regression diagnostics: Identifying Influential Data and Sources of Collinearity', Wiley, 1980. 244-261.\n",
      "   - Quinlan,R. (1993). Combining Instance-Based and Model-Based Learning. In Proceedings on the Tenth International Conference of Machine Learning, 236-243, University of Massachusetts, Amherst. Morgan Kaufmann.\n",
      "   - many more! (see http://archive.ics.uci.edu/ml/datasets/Housing)\n",
      "\n"
     ]
    }
   ],
   "source": [
    "print (bdata.keys())\n",
    "print (bdata.feature_names)\n",
    "print (bdata.data.shape)\n",
    "print (bdata.target.shape)\n",
    "# uncomment the following if you want to see a lengthy description of the dataset\n",
    "print (bdata.DESCR)"
   ]
  },
  {
   "cell_type": "markdown",
   "metadata": {},
   "source": [
    "---\n",
    "\n",
    "## Part 1: Descriptive analysis\n",
    "\n",
    "Before beginning the \"real\" work, dig into the data a bit do see what you're dealing with.  If you feel that you are still in the beginning stages of analyzing data in Python, no problem. That is understandable. Just make sure to read some of the online resources like [this one](https://github.com/jrjohansson/scientific-python-lectures).\n",
    "\n",
    "### 1.1: Histogram of housing prices\n",
    "\n",
    "Below you will find some very basic code to make a very basic histogram of median housing prices (the \"target\" variable) for your dataset.  Your first task is to make this graph look pretty by doing the following:\n",
    "\n",
    "1. Add appropriate labels to the x and y axes, make sure to include units\n",
    "2. Change the bin width on the histogram to be $1000\n",
    "3. Remove the axes on the top and right side of the plot window\n",
    "4. Change the color of the bars to be green, and remove the black borders from the bars\n"
   ]
  },
  {
   "cell_type": "code",
   "execution_count": 4,
   "metadata": {},
   "outputs": [
    {
     "data": {
      "image/png": "[encoded data removed]",
      "text/plain": [
       "<Figure size 432x288 with 1 Axes>"
      ]
     },
     "metadata": {
      "needs_background": "light"
     },
     "output_type": "display_data"
    }
   ],
   "source": [
    "# prepare your jupyter notebook to work with matplotlib and import the library to something convenient\n",
    "%matplotlib inline  \n",
    "import matplotlib.pyplot as plt  \n",
    "\n",
    "\n",
    "\n",
    "fig, ax = plt.subplots()\n",
    "# edit the code below to make the graph look good\n",
    "plt.hist(bdata.target,color=\"mediumseagreen\",bins=np.arange(min(bdata.target), max(bdata.target) + 1,1)) #splits the binwidth to show every $1000 instead of every 10\n",
    "plt.xlabel(\"Median Housing Price ($1k)\")\n",
    "plt.ylabel(\"Count\")\n",
    "plt.title(\"Histogram of Median Housing Prices ($1k)\")\n",
    "\n",
    "ax.spines['right'].set_visible(False)\n",
    "ax.spines['top'].set_visible(False)"
   ]
  },
  {
   "cell_type": "code",
   "execution_count": 5,
   "metadata": {},
   "outputs": [
    {
     "name": "stdout",
     "output_type": "stream",
     "text": [
      "      CRIM    ZN  INDUS  CHAS    NOX     RM   AGE     DIS  RAD    TAX  \\\n",
      "0  0.00632  18.0   2.31   0.0  0.538  6.575  65.2  4.0900  1.0  296.0   \n",
      "1  0.02731   0.0   7.07   0.0  0.469  6.421  78.9  4.9671  2.0  242.0   \n",
      "2  0.02729   0.0   7.07   0.0  0.469  7.185  61.1  4.9671  2.0  242.0   \n",
      "3  0.03237   0.0   2.18   0.0  0.458  6.998  45.8  6.0622  3.0  222.0   \n",
      "4  0.06905   0.0   2.18   0.0  0.458  7.147  54.2  6.0622  3.0  222.0   \n",
      "\n",
      "   PTRATIO       B  LSTAT  TARGET  \n",
      "0     15.3  396.90   4.98    24.0  \n",
      "1     17.8  396.90   9.14    21.6  \n",
      "2     17.8  392.83   4.03    34.7  \n",
      "3     18.7  394.63   2.94    33.4  \n",
      "4     18.7  396.90   5.33    36.2  \n"
     ]
    }
   ],
   "source": [
    "data = pd.DataFrame(bdata.data)\n",
    "data.columns=bdata.feature_names\n",
    "data['TARGET']=bdata.target\n",
    "\n",
    "print(data.head())"
   ]
  },
  {
   "cell_type": "markdown",
   "metadata": {},
   "source": [
    "### 1.2: Scatter plot of housing prices and crime\n",
    "\n",
    "Use matplotlib to create a scatter plot that shows the relationship between the median value of the home (y-axis) and the per-capita crime rate (x-axis).  Properly label your axes, and make sure that your graphic looks polished and professional.\n"
   ]
  },
  {
   "cell_type": "code",
   "execution_count": 6,
   "metadata": {},
   "outputs": [
    {
     "data": {
      "image/png": "[encoded data removed]",
      "text/plain": [
       "<Figure size 432x288 with 1 Axes>"
      ]
     },
     "metadata": {},
     "output_type": "display_data"
    }
   ],
   "source": [
    "# enter your code below\n",
    "\n",
    "with plt.xkcd():\n",
    "    plt.scatter(data.CRIM, data.TARGET, alpha=0.5,color=\"red\")\n",
    "    plt.xlabel(\"Crime Rate per capita\")\n",
    "    plt.ylabel(\"Housing Price ($1k)\")\n",
    "    plt.title(\"HOUSING PRICE BY CRIME RATE\")\n",
    "    plt.show()\n",
    "\n",
    "# seems like we can only really talk about the outliers here... If the crime rate is REALLY bad, house prices go down.\n",
    "# But when there's little crime, other factors are at play affecting the housing price."
   ]
  },
  {
   "cell_type": "markdown",
   "metadata": {},
   "source": [
    "### 1.3 Create your own (creative and effective) visualization\n",
    "\n",
    "Use another type of graph or chart to illustrate an interesting pattern in the data.  Be creative in your visualization, and make sure to produce a \"publication-quality\" graph.  Points will be given for useful and creative graphs; points will be deducted for confusing issues like unlabeled axes.  If you're new to data visualization, [this guide](http://pubs.aeaweb.org/doi/pdfplus/10.1257/jep.28.1.209) is a good place to start."
   ]
  },
  {
   "cell_type": "code",
   "execution_count": 7,
   "metadata": {},
   "outputs": [
    {
     "name": "stdout",
     "output_type": "stream",
     "text": [
      "    RAD       NOX\n",
      "0   1.0  0.462890\n",
      "1   2.0  0.484917\n",
      "2   3.0  0.452424\n",
      "3   4.0  0.504311\n",
      "4   5.0  0.570883\n",
      "5   6.0  0.514846\n",
      "6   7.0  0.441000\n",
      "7   8.0  0.492500\n",
      "8  24.0  0.672417\n"
     ]
    },
    {
     "data": {
      "image/png": "[encoded data removed]",
      "text/plain": [
       "<Figure size 432x288 with 1 Axes>"
      ]
     },
     "metadata": {},
     "output_type": "display_data"
    }
   ],
   "source": [
    "by_rad = pd.DataFrame(data.groupby(by=[\"RAD\"],as_index=False)['NOX'].mean())\n",
    "print(by_rad)\n",
    "with plt.xkcd():\n",
    "    plt.scatter(data.RAD, data.NOX, alpha=0.5,color=\"black\")\n",
    "    plt.xlabel(\"DISTANCE FROM HIGHWAY\")\n",
    "    plt.ylabel(\"NITRIC OXIDE\")\n",
    "    plt.title(\"TOXIC AIR BY PROXIMITY TO HIGHWAY\")\n",
    "    #now I'd like to get the mean of NOX along each value of Radius distance\n",
    "    plt.scatter(by_rad.RAD,by_rad.NOX,alpha=1,marker=\"^\",s=100,color=\"red\")\n",
    "    plt.plot(by_rad.RAD,by_rad.NOX,color=\"red\")\n",
    "    plt.show()\n",
    "    "
   ]
  },
  {
   "cell_type": "markdown",
   "metadata": {},
   "source": [
    "---\n",
    "\n",
    "## Part 2: Experimental Setup\n",
    "\n",
    "The goal of the next few sections is to design an experiment to predict the median home value for an instance in the data.\n",
    "\n",
    "### 2.1 Begin by writing a function to compute the Root Mean Squared Error for a list of numbers\n",
    "\n",
    "You can find the sqrt function in the Numpy package. Furthermore the details of RMSE can be found on [Wikipedia](http://en.wikipedia.org/wiki/Root-mean-square_deviation)\n",
    "\n"
   ]
  },
  {
   "cell_type": "code",
   "execution_count": 8,
   "metadata": {},
   "outputs": [
    {
     "name": "stdout",
     "output_type": "stream",
     "text": [
      "2.0816659994661326\n"
     ]
    }
   ],
   "source": [
    "\"\"\"\n",
    "Function\n",
    "--------\n",
    "compute_rmse\n",
    "\n",
    "Given two arrays, one of actual values and one of predicted values,\n",
    "compute the Roote Mean Squared Error\n",
    "\n",
    "Parameters\n",
    "----------\n",
    "predictions : array\n",
    "    Array of numerical values corresponding to predictions for each of the N observations\n",
    "\n",
    "yvalues : array\n",
    "    Array of numerical values corresponding to the actual values for each of the N observations\n",
    "\n",
    "Returns\n",
    "-------\n",
    "rmse : int\n",
    "    Root Mean Squared Error of the prediction\n",
    "\n",
    "Example\n",
    "-------\n",
    ">>> print compute_rmse((2,2,3),(0,2,6)\n",
    "2.16\n",
    "\"\"\"\n",
    "def compute_rmse(predictions, yvalues):\n",
    "    rmse= np.sqrt(np.sum(((np.array(predictions)-np.array(yvalues))**2)/len(predictions)))\n",
    "    \n",
    "    return rmse\n",
    "    \n",
    "print(compute_rmse(np.array((2,2,3)),np.array((0,2,6))))\n",
    "\n"
   ]
  },
  {
   "cell_type": "markdown",
   "metadata": {},
   "source": [
    "### 2.2 Divide your data into training and testing datasets\n",
    "\n",
    "Randomly select 66% of the data and put this in a training dataset (call this \"bdata_train\"), and place the remaining 34% in a testing dataset (call this \"bdata_test\")\n"
   ]
  },
  {
   "cell_type": "code",
   "execution_count": 9,
   "metadata": {},
   "outputs": [
    {
     "data": {
      "text/html": [
       "<div>\n",
       "<style scoped>\n",
       "    .dataframe tbody tr th:only-of-type {\n",
       "        vertical-align: middle;\n",
       "    }\n",
       "\n",
       "    .dataframe tbody tr th {\n",
       "        vertical-align: top;\n",
       "    }\n",
       "\n",
       "    .dataframe thead th {\n",
       "        text-align: right;\n",
       "    }\n",
       "</style>\n",
       "<table border=\"1\" class=\"dataframe\">\n",
       "  <thead>\n",
       "    <tr style=\"text-align: right;\">\n",
       "      <th></th>\n",
       "      <th>CRIM</th>\n",
       "      <th>ZN</th>\n",
       "      <th>INDUS</th>\n",
       "      <th>CHAS</th>\n",
       "      <th>NOX</th>\n",
       "      <th>RM</th>\n",
       "      <th>AGE</th>\n",
       "      <th>DIS</th>\n",
       "      <th>RAD</th>\n",
       "      <th>TAX</th>\n",
       "      <th>PTRATIO</th>\n",
       "      <th>B</th>\n",
       "      <th>LSTAT</th>\n",
       "      <th>TARGET</th>\n",
       "      <th>rand</th>\n",
       "      <th>train</th>\n",
       "    </tr>\n",
       "  </thead>\n",
       "  <tbody>\n",
       "    <tr>\n",
       "      <th>2</th>\n",
       "      <td>0.02729</td>\n",
       "      <td>0.0</td>\n",
       "      <td>7.07</td>\n",
       "      <td>0.0</td>\n",
       "      <td>0.469</td>\n",
       "      <td>7.185</td>\n",
       "      <td>61.1</td>\n",
       "      <td>4.9671</td>\n",
       "      <td>2.0</td>\n",
       "      <td>242.0</td>\n",
       "      <td>17.8</td>\n",
       "      <td>392.83</td>\n",
       "      <td>4.03</td>\n",
       "      <td>34.7</td>\n",
       "      <td>0.090282</td>\n",
       "      <td>False</td>\n",
       "    </tr>\n",
       "    <tr>\n",
       "      <th>5</th>\n",
       "      <td>0.02985</td>\n",
       "      <td>0.0</td>\n",
       "      <td>2.18</td>\n",
       "      <td>0.0</td>\n",
       "      <td>0.458</td>\n",
       "      <td>6.430</td>\n",
       "      <td>58.7</td>\n",
       "      <td>6.0622</td>\n",
       "      <td>3.0</td>\n",
       "      <td>222.0</td>\n",
       "      <td>18.7</td>\n",
       "      <td>394.12</td>\n",
       "      <td>5.21</td>\n",
       "      <td>28.7</td>\n",
       "      <td>0.256927</td>\n",
       "      <td>False</td>\n",
       "    </tr>\n",
       "    <tr>\n",
       "      <th>7</th>\n",
       "      <td>0.14455</td>\n",
       "      <td>12.5</td>\n",
       "      <td>7.87</td>\n",
       "      <td>0.0</td>\n",
       "      <td>0.524</td>\n",
       "      <td>6.172</td>\n",
       "      <td>96.1</td>\n",
       "      <td>5.9505</td>\n",
       "      <td>5.0</td>\n",
       "      <td>311.0</td>\n",
       "      <td>15.2</td>\n",
       "      <td>396.90</td>\n",
       "      <td>19.15</td>\n",
       "      <td>27.1</td>\n",
       "      <td>0.084779</td>\n",
       "      <td>False</td>\n",
       "    </tr>\n",
       "    <tr>\n",
       "      <th>10</th>\n",
       "      <td>0.22489</td>\n",
       "      <td>12.5</td>\n",
       "      <td>7.87</td>\n",
       "      <td>0.0</td>\n",
       "      <td>0.524</td>\n",
       "      <td>6.377</td>\n",
       "      <td>94.3</td>\n",
       "      <td>6.3467</td>\n",
       "      <td>5.0</td>\n",
       "      <td>311.0</td>\n",
       "      <td>15.2</td>\n",
       "      <td>392.52</td>\n",
       "      <td>20.45</td>\n",
       "      <td>15.0</td>\n",
       "      <td>0.281966</td>\n",
       "      <td>False</td>\n",
       "    </tr>\n",
       "    <tr>\n",
       "      <th>12</th>\n",
       "      <td>0.09378</td>\n",
       "      <td>12.5</td>\n",
       "      <td>7.87</td>\n",
       "      <td>0.0</td>\n",
       "      <td>0.524</td>\n",
       "      <td>5.889</td>\n",
       "      <td>39.0</td>\n",
       "      <td>5.4509</td>\n",
       "      <td>5.0</td>\n",
       "      <td>311.0</td>\n",
       "      <td>15.2</td>\n",
       "      <td>390.50</td>\n",
       "      <td>15.71</td>\n",
       "      <td>21.7</td>\n",
       "      <td>0.051690</td>\n",
       "      <td>False</td>\n",
       "    </tr>\n",
       "  </tbody>\n",
       "</table>\n",
       "</div>"
      ],
      "text/plain": [
       "       CRIM    ZN  INDUS  CHAS    NOX     RM   AGE     DIS  RAD    TAX  \\\n",
       "2   0.02729   0.0   7.07   0.0  0.469  7.185  61.1  4.9671  2.0  242.0   \n",
       "5   0.02985   0.0   2.18   0.0  0.458  6.430  58.7  6.0622  3.0  222.0   \n",
       "7   0.14455  12.5   7.87   0.0  0.524  6.172  96.1  5.9505  5.0  311.0   \n",
       "10  0.22489  12.5   7.87   0.0  0.524  6.377  94.3  6.3467  5.0  311.0   \n",
       "12  0.09378  12.5   7.87   0.0  0.524  5.889  39.0  5.4509  5.0  311.0   \n",
       "\n",
       "    PTRATIO       B  LSTAT  TARGET      rand  train  \n",
       "2      17.8  392.83   4.03    34.7  0.090282  False  \n",
       "5      18.7  394.12   5.21    28.7  0.256927  False  \n",
       "7      15.2  396.90  19.15    27.1  0.084779  False  \n",
       "10     15.2  392.52  20.45    15.0  0.281966  False  \n",
       "12     15.2  390.50  15.71    21.7  0.051690  False  "
      ]
     },
     "execution_count": 9,
     "metadata": {},
     "output_type": "execute_result"
    }
   ],
   "source": [
    "import random\n",
    "# leave the following line untouched, it will help ensure that your \"random\" split is the same \"random\" split used by the rest of the class\n",
    "np.random.seed(seed=13579)\n",
    "\n",
    "# enter your code here\n",
    "data['rand'] = data.apply(lambda row: random.random(), axis=1)\n",
    "data.head()\n",
    "data['train'] = (data['rand']>.33) \n",
    "bdata_train = pd.DataFrame(data[data['train']==True]) #2/3 of the data\n",
    "bdata_test = pd.DataFrame(data[data['train']==False]) #1/3 of the data\n",
    "\n",
    "len(bdata_test)\n",
    "len(bdata_train)\n",
    "bdata_test.head()"
   ]
  },
  {
   "cell_type": "markdown",
   "metadata": {},
   "source": [
    "### 2.3 Use a very bad baseline for prediction, and compute RMSE\n",
    "\n",
    "Create a model that predicts, for every observation x_i, that the median home value is the average (mean) of the median values for all instances in the training set.  Compute the RMSE on the training set.  Now compute the RMSE on the test data set (but use the model you trained on the training set!).  How does RMSE compare for training vs. testing datasets? Is this what you expected, and why?"
   ]
  },
  {
   "cell_type": "code",
   "execution_count": 10,
   "metadata": {},
   "outputs": [
    {
     "name": "stdout",
     "output_type": "stream",
     "text": [
      "9.266620768496358\n",
      "9.05450291400697\n"
     ]
    }
   ],
   "source": [
    "# enter your code here\n",
    "\n",
    "bad_model = bdata_train['TARGET'].mean() \n",
    "bdata_train['BAD'] = bad_model\n",
    "\n",
    "\n",
    "bdata_test['BAD'] = bad_model #mean of TRAINING data\n",
    "\n",
    "\n",
    "\n",
    "\n",
    "print(compute_rmse(bdata_train.BAD,bdata_train.TARGET)) # ON TRAINING\n",
    "print(compute_rmse(bdata_test.BAD,bdata_test.TARGET)) \n",
    "\n",
    "\n",
    "\n"
   ]
  },
  {
   "cell_type": "markdown",
   "metadata": {},
   "source": [
    "*They're pretty close!*"
   ]
  },
  {
   "cell_type": "markdown",
   "metadata": {},
   "source": [
    "---\n",
    "\n",
    "## Part 3: Nearest Neighbors\n"
   ]
  },
  {
   "cell_type": "markdown",
   "metadata": {},
   "source": [
    "### 3.1 Nearest Neighbors: Distance function\n",
    "Let's try and build a machine learning algorithm to beat the \"Average Value\" baseline that you computed above.  Soon you will implement the Nearest Neighbor algorithm, but first you need to create a distance metric to measure the distance (and similarity) between two instances.  Write a generic function to compute the L-Norm distance (called the [*p*-norm](http://en.wikipedia.org/wiki/Norm_(mathematics) distance on Wikipedia). Verify that your function works by computing the Euclidean distance between the points (3,4) and (6,8)."
   ]
  },
  {
   "cell_type": "code",
   "execution_count": 11,
   "metadata": {},
   "outputs": [
    {
     "name": "stdout",
     "output_type": "stream",
     "text": [
      "CRIM      0.06905\n",
      "ZN              0\n",
      "RM          7.147\n",
      "AGE          54.2\n",
      "DIS        6.0622\n",
      "TAX           222\n",
      "TARGET       36.2\n",
      "Name: 4, dtype: object CRIM      2.33099\n",
      "ZN              0\n",
      "RM          5.186\n",
      "AGE          93.8\n",
      "DIS        1.5296\n",
      "TAX           403\n",
      "TARGET       17.8\n",
      "Name: 148, dtype: object\n"
     ]
    },
    {
     "data": {
      "text/plain": [
       "7.0"
      ]
     },
     "execution_count": 11,
     "metadata": {},
     "output_type": "execute_result"
    }
   ],
   "source": [
    "\"\"\"\n",
    "Function\n",
    "--------\n",
    "distance\n",
    "\n",
    "Given two instances and a value for L, return the L-Norm distance between them\n",
    "\n",
    "Parameters\n",
    "----------\n",
    "x1, x2 : array\n",
    "    Array of numerical values corresponding to predictions for each of the N observations\n",
    "\n",
    "L: int\n",
    "    Value of L to use in computing distances\n",
    "\n",
    "Returns\n",
    "-------\n",
    "dist : int\n",
    "    The L-norm distance between instances\n",
    "\n",
    "Example\n",
    "-------\n",
    ">>> print distance((3,4),(6,8),2)\n",
    "7\n",
    "\n",
    "\"\"\"\n",
    "import math\n",
    "# two test vectors\n",
    "x1=bdata_train.iloc[3][['CRIM', 'ZN', 'RM', 'AGE', 'DIS', 'TAX','TARGET']]\n",
    "x2=bdata_train.iloc[102][['CRIM', 'ZN', 'RM', 'AGE', 'DIS', 'TAX','TARGET']]\n",
    "print(x1,x2)\n",
    "      \n",
    "def distance(x1, x2, L):\n",
    "    #when L == 1 we get the \"taxicab norm\"\n",
    "    #when L == 2 we get the Euclidean norm\n",
    "    # (sum of (the absolute values (of the x_i) to the power of L))to the 1/L\n",
    "    \n",
    "    dist =  np.sum([(np.absolute((a - b))**L)**(1/L) for a, b in zip(x1, x2)])\n",
    "    return dist\n",
    "\n",
    "distance((3,4),(6,8),2)\n"
   ]
  },
  {
   "cell_type": "markdown",
   "metadata": {},
   "source": [
    "### 3.2 Basic Nearest Neighbor algorithm\n",
    "\n",
    "Now things get fun.  Your task is to implement a basic nearest neighbor algorithm from scratch.  Your simple model will use two input features (CRIM and RM) and a single output (MEDV).  In other words, you are modelling the relationship between median home value and crime rates and house size.\n",
    "\n",
    "Use your training data (bdata_train) to \"fit\" your model, although as you know, with Nearest Neighbors there is no real training, you just need to keep your training data in memory.  Write a function that predicts, for each instance in the testing data (bdata_test), the median home value using the nearest neighbor algorithm we discussed in class.  Since this is a small dataset, you can simply compare your test instance to every instance in the training set, and return the MEDV value of the closest training instance.  Have your function take L as an input, where L is passed to the distance function.\n",
    "\n",
    "Compute the RMSE for the Nearest Neighbor predictions on the test set, using the Euclidean distance.  Report an estimate of the total time taken by your code to predict the nearest neighbors for all the values in the test data set."
   ]
  },
  {
   "cell_type": "code",
   "execution_count": 12,
   "metadata": {},
   "outputs": [
    {
     "name": "stdout",
     "output_type": "stream",
     "text": [
      "19.182608695652178 17.8\n",
      "9.39974819506806\n"
     ]
    }
   ],
   "source": [
    "\"\"\"\n",
    "# write your function specification here!\n",
    "\"\"\"\n",
    "import time\n",
    "import operator\n",
    "\n",
    "\n",
    "def nneighbor(training, testInstance, k, L,features):\n",
    "    start_time = time.time()\n",
    "    distances = [] #could be a Priority Queue \n",
    "    for x in range(len(training)):\n",
    "        \n",
    "        dist = distance(testInstance[features],training[features].iloc[x].to_frame(),L) #only find difference across two features\n",
    "        distances.append([training.iloc[x].to_frame(),dist])\n",
    "        \n",
    "    #keep it sorted! could use a Priority Queue instead\n",
    "    distances.sort(key=operator.itemgetter(1)) # we won't need the actual distance value. Just used for sorting\n",
    "    neighbors = []\n",
    "    # for k nearest neighbors\n",
    "    for n in range(k):\n",
    "        \n",
    "        neighbors.append(pd.DataFrame(distances[n][0])) # the training set neighbors\n",
    "    #print(neighbors)\n",
    "    \n",
    "\n",
    "\n",
    "    #print (\"Time taken: \" + str(round(time.time() - start_time,2)) + \" seconds\")\n",
    "    return neighbors\n",
    "    #return rmse\n",
    "def get_prediction(neighbors,testInstance):\n",
    "    #now we have the neighbors, let's make a prediction by taking the average of their TARGETs\n",
    "    predicted_series = [x.loc['TARGET'].tolist() for x in neighbors]\n",
    "    predicted = sum([item for sublist in predicted_series for item in sublist])/len(neighbors)\n",
    "    \n",
    "    \n",
    "    #after we have the predicted value, we can compare it to our test data and see how we did!\n",
    "    true = testInstance['TARGET']\n",
    "    return predicted\n",
    "\n",
    "#evaluate our model!\n",
    "# remember x2 is a test vector I grabbed from bdata_test, defined above\n",
    "k=23\n",
    "neighbors = nneighbor(bdata_train,x2,k,2,['CRIM','RM'])\n",
    "prediction = get_prediction(neighbors,x2)\n",
    "print(prediction,x2['TARGET']) #just on one test instance\n",
    "\n",
    "def compare_test(training,testing,k,L,features):\n",
    "    #here's the arrays we will compare! #we will eventually zip them\n",
    "    predictions = []\n",
    "    real_targets = []\n",
    "    #we have a training set and a testing set. We will find the neighbors in the training, take an average, and assign that for the testing.\n",
    "    # we can then compare that predicted value to the actual test value. And compute the rmse.\n",
    "    for instance in range(0,len(testing)):\n",
    "        #print(instance)\n",
    "        #go through each test instance\n",
    "        \n",
    "        #get its neighbors based on the features\n",
    "        neighbors = nneighbor(training, testing.iloc[instance], k, L, features)\n",
    "        prediction = get_prediction(neighbors,testing.iloc[instance])\n",
    "        predictions.append(prediction)\n",
    "        real_targets.append(testing.iloc[instance]['TARGET'])\n",
    "        #print(prediction, testing.iloc[instance]['TARGET'])\n",
    "    \n",
    "    rmse = compute_rmse(predictions,real_targets)\n",
    "    #print(rmse)\n",
    "    return rmse\n",
    "    \n",
    "print(compare_test(bdata_train,bdata_test,k,2,['CRIM','RM']))\n",
    "    \n",
    "# the RMSE is hovering around 9-9.5 for unnormalized data with these features   \n",
    "        \n",
    "        \n",
    "        \n",
    "        \n",
    "    \n",
    "\n",
    "\n"
   ]
  },
  {
   "cell_type": "markdown",
   "metadata": {},
   "source": [
    "### 3.3 Results and Normalization\n",
    "\n",
    "If you were being astute, you would have noticed that we never normalized our features -- a big no-no with Nearest Neighbor algorithms.  Write a generic normalization function that takes as input an array of values for a given feature, and returns the normalized array (subtract the mean and divide by the standard deviation).\n",
    "\n",
    "Re-run the Nearest Neighbor algorithm on the normalized dataset (still just using CRIM and RM as input), and compare the RMSE from this method with your previous RMSE evaluations.\n",
    "\n",
    "*NOTE*: To normalize properly, best practice is to compute the mean and standard deviation on the training set, and use these values to normalize the testing dataset. However, for this problem set, it is okay if you separately normalize each dataset using the respective mean and standard deviation."
   ]
  },
  {
   "cell_type": "code",
   "execution_count": 13,
   "metadata": {},
   "outputs": [
    {
     "name": "stdout",
     "output_type": "stream",
     "text": [
      "       CRIM        ZN        RM       AGE       DIS       TAX    TARGET\n",
      "0 -0.400941  0.216513  0.401484 -0.087525  0.107179 -0.646593  0.113088\n",
      "1 -0.398445 -0.506969  0.183505  0.385709  0.509946 -0.971295 -0.145906\n",
      "2 -0.397843 -0.506969  1.000220 -0.757653  1.012819 -1.091555  1.127481\n",
      "3 -0.393481 -0.506969  1.211122 -0.467494  1.012819 -1.091555  1.429641\n",
      "4 -0.391193 -0.004551 -0.395414 -0.039165  0.782437 -0.556398 -0.005618\n",
      "       CRIM        ZN        RM       AGE       DIS       TAX    TARGET\n",
      "0 -0.449007 -0.453337  1.320481 -0.350271  0.670158 -1.021804  1.453157\n",
      "1 -0.448720 -0.453337  0.229870 -0.441669  1.235501 -1.138002  0.783803\n",
      "2 -0.435873  0.190299 -0.142816  0.982629  1.177836 -0.620922  0.605309\n",
      "3 -0.426875  0.190299  0.153310  0.914080  1.382374 -0.620922 -0.744556\n",
      "4 -0.441560  0.190299 -0.551615 -1.191902  0.919919 -0.620922  0.002890\n",
      "CRIM     -0.444876\n",
      "ZN       -0.453337\n",
      "RM       -0.488056\n",
      "AGE      -0.079882\n",
      "DIS      -0.159349\n",
      "TAX      -0.806839\n",
      "TARGET   -0.309476\n",
      "Name: 13, dtype: float64\n",
      "-0.3328137516983829 -0.30947555416307687\n"
     ]
    }
   ],
   "source": [
    "\"\"\"\n",
    "Function\n",
    "--------\n",
    "normalize\n",
    "\n",
    "Given an array, return the normalized version of that array\n",
    "\n",
    "Parameters\n",
    "----------\n",
    "raw_data : array\n",
    "    Array of numerical values \n",
    "\n",
    "\n",
    "Returns\n",
    "-------\n",
    "normalized_data : array\n",
    "    Array of normalized values ((x - mean) / standard deviation) for all x in raw_data\n",
    "\n",
    "Example\n",
    "-------\n",
    ">>> print (normalize([10,2,3,4,9,12,8,13,20]))\n",
    "[0.1867718419094071, -1.3074028933658497, -1.1206310514564426, -0.9338592095470355, 0.0, 0.5603155257282213, -0.1867718419094071, 0.7470873676376284, 2.0544902610034783]\n",
    "\n",
    "\"\"\"\n",
    "def normalize(raw_data):\n",
    "    #for each of the columns, subtract the mean and divide by standard deviation\n",
    "    #raw_data is an array\n",
    "    mean = np.mean(raw_data)\n",
    "    std = np.std(raw_data)\n",
    "    normalized_data = [((x-mean)/std) for x in raw_data]\n",
    "    \n",
    "    \n",
    "    return normalized_data\n",
    "\n",
    "# now I need to normalize my actual data!\n",
    "# remember the columns I want to normalize:\n",
    "norm_train = pd.DataFrame()\n",
    "norm_test = pd.DataFrame()\n",
    "for column in bdata_train[['CRIM', 'ZN', 'RM', 'AGE', 'DIS', 'TAX','TARGET']]:\n",
    "    \n",
    "    norm_train[column]=normalize(bdata_train[column])\n",
    "    norm_test[column]=normalize(bdata_test[column])\n",
    "\n",
    "    \n",
    "print(norm_train.head())\n",
    "print(norm_test.head())\n",
    "\n",
    "testInst = norm_test.iloc[13][['CRIM', 'ZN', 'RM', 'AGE', 'DIS', 'TAX','TARGET']]\n",
    "print(testInst)\n",
    "k=25\n",
    "\n",
    "neighbors = nneighbor(norm_train,testInst,k,2,['CRIM','RM'])\n",
    "predicted = get_prediction(neighbors,testInst)\n",
    "print(predicted, testInst['TARGET']) #this is for one test instance\n",
    "\n",
    "\n",
    "    \n",
    "\n",
    "\n",
    "\n",
    "\n"
   ]
  },
  {
   "cell_type": "code",
   "execution_count": 14,
   "metadata": {},
   "outputs": [
    {
     "name": "stdout",
     "output_type": "stream",
     "text": [
      "1.0539283625178484\n"
     ]
    }
   ],
   "source": [
    "print(compare_test(norm_train,norm_test,k,2,['CRIM','RM']))\n"
   ]
  },
  {
   "cell_type": "markdown",
   "metadata": {},
   "source": [
    "*To be honest, I started playing around with k even though we are going to use cross-validation to do that! It was kind of cool to try to fiddle with it manually, because then we get the real appreciation for machine learning and cross-validation and \"automatic\" parameter tuning. Some values of k are really not right!*"
   ]
  },
  {
   "cell_type": "markdown",
   "metadata": {},
   "source": [
    "### 3.4 Optimization\n",
    "\n",
    "A lot of the decisions we've made so far have been arbitrary.  Try to increase the performance of your nearest neighbor algorithm by adding features that you think might be relevant, and by using different values of L in the distance function.  Try a model that uses a different set of 2 features, then try at least one model that uses more than 4 features, then try using a different value of L.  If you're having fun, try a few different combinations of features and L!\n",
    "\n",
    "What combination of features and distance function provide the lowest RMSE?  Do your decisions affect the running time of the algorithm?"
   ]
  },
  {
   "cell_type": "code",
   "execution_count": 15,
   "metadata": {},
   "outputs": [
    {
     "name": "stdout",
     "output_type": "stream",
     "text": [
      "1.0539283625178484\n"
     ]
    }
   ],
   "source": [
    "k=25\n",
    "print(compare_test(norm_train,norm_test,k,2,['CRIM','AGE','TAX']))\n",
    "\n",
    "\n"
   ]
  },
  {
   "cell_type": "code",
   "execution_count": 17,
   "metadata": {},
   "outputs": [
    {
     "name": "stdout",
     "output_type": "stream",
     "text": [
      "0.9542784137948738\n"
     ]
    }
   ],
   "source": [
    "k=1\n",
    "print(compare_test(norm_train,norm_test,k,2,['AGE','DIS','TAX','ZN']))"
   ]
  },
  {
   "cell_type": "code",
   "execution_count": 18,
   "metadata": {},
   "outputs": [
    {
     "name": "stdout",
     "output_type": "stream",
     "text": [
      "1.0299546541289633\n"
     ]
    }
   ],
   "source": [
    "k=1\n",
    "print(compare_test(norm_train,norm_test,k,2,['CRIM','AGE','DIS','TAX','ZN','RM']))"
   ]
  },
  {
   "cell_type": "markdown",
   "metadata": {},
   "source": [
    "*It's actually really difficult to say much about the rmse because the normalized data has a small range. I'm finding it difficult to even assess my model. It's hard to say what the error even means. Also, this seems to be taking ages! For every single test instance, we go through the entire dataset. It's a huge pain.*"
   ]
  },
  {
   "cell_type": "markdown",
   "metadata": {},
   "source": [
    "### 3.5 Cross-Validation\n",
    "\n",
    "The more you tinkered with your features and distance function, the higher the risk that you overfit your training data.  To prevent this sort of overfitting, you need to use cross-validation (see K-fold [cross-validation](http://en.wikipedia.org/wiki/Cross-validation_(statistics)).  Here you must implement a simple k-fold cross-validation algorithm yourself.  The function you write here will be used several more times in this problem set, so do your best to write efficient code! (Note that the sklearn package has a built-in [K-fold](http://scikit-learn.org/stable/modules/cross_validation.html#cross-validation) iterator -- you should *not* be invoking that or any related algorithms in this section of the problem set.)\n",
    "\n",
    "Use 10-fold cross-validation and report the average RMSE for Nearest Neighbors using Euclidean distance with CRIM and RM input features, as well as the total running time for the full run of 10 folds.  In other words, randomly divide your dataset into 10 equally-sized samples, and for each of 10 iterations (the \"folds\"), use 9 samples as \"training data\" (even though there is no training in k-NN!), and the remaining 1 sample for testing.  Compute the RMSE of that particular test set, then move on to the next iteration.  Report the average RMSE across the 10 iterations."
   ]
  },
  {
   "cell_type": "code",
   "execution_count": 19,
   "metadata": {},
   "outputs": [],
   "source": [
    "# enter your code here\n",
    "def fold(data,K):\n",
    "    shuffled = data.sample(frac=1) #should shuffle everything\n",
    "    FOLDS = []\n",
    "    #print(shuffled)\n",
    "    count = 0\n",
    "    length = len(data['TARGET'])//K #integer divide\n",
    "    #print(length)\n",
    "    for i in range(0,K):\n",
    "        temp_fold = []\n",
    "        while len(temp_fold) < length:\n",
    "            temp_fold.append(shuffled.iloc[count])\n",
    "            count+=1\n",
    "        FOLDS.append(temp_fold)\n",
    "    \n",
    "    \n",
    "    return FOLDS\n",
    "\n",
    "\n",
    "folds = fold(norm_train,10) #fold the data into K chunks\n",
    "\n",
    "\n",
    "# for each of the chunks, use the K-1 as \"training\" data and the remaining one as the test data.\n",
    "# grab randomly from the folds, and compare to the rest of the fold. \n",
    "# compute the rmse.\n",
    "# save the rmse.\n",
    "# take average of rmses for all folds.il"
   ]
  },
  {
   "cell_type": "markdown",
   "metadata": {},
   "source": [
    "### 3.6 K-Nearest Neighbors Algorithm\n",
    "\n",
    "Implement the K-Nearest Neighbors algorithm.  Using 10-fold cross validation, report the RMSE for K=3 and the running time of the algorithm."
   ]
  },
  {
   "cell_type": "code",
   "execution_count": 20,
   "metadata": {},
   "outputs": [
    {
     "name": "stdout",
     "output_type": "stream",
     "text": [
      "0.12702093879629373\n"
     ]
    }
   ],
   "source": [
    "\"\"\"\n",
    "Function\n",
    "--------\n",
    "knn\n",
    "\n",
    "knn takes in some data, the features you care about, an L value (for distance), and a K (the number of neighbors you want to look at)\n",
    "\n",
    "\n",
    "Parameters\n",
    "----------\n",
    "data : pandas dataframe\n",
    "    Dataframe, including TARGET\n",
    "\n",
    "features: array of strings; the features you want to use in the model\n",
    "\n",
    "L: int\n",
    "    used in the distance metric\n",
    "    \n",
    "k: int\n",
    "    number of neighbors you want to include in nearest neighbors \"vote\"\n",
    "    \n",
    "K: int\n",
    "    number of folds for cross validation\n",
    "\n",
    "\n",
    "Returns\n",
    "-------\n",
    "rmse : float\n",
    "    this is the error of your model; basically how well it is doing. You want to MINIMIZE this by tweaking parameters, while also performing well on new data\n",
    "\n",
    "Example\n",
    "-------\n",
    ">>> knn(data,['CRIM', 'ZN', 'RM', 'AGE', 'DIS', 'TAX'],2,3)\n",
    "\n",
    "\n",
    "\"\"\"\n",
    "def knn(data, features,k, L, K):\n",
    "    #print(features)\n",
    "    rmse = 0 #should seriously never be 0\n",
    "    count = 0\n",
    "    # knn should take in some data, features to look at, L (for distance specification) and k\n",
    "    #split the data into K folds (apparently it's better to normalize WITHIN the CV than before, but that it shouldn't really matter?)\n",
    "    #must normalize the data\n",
    "    norm_data = pd.DataFrame()\n",
    "    for column in features:\n",
    "        norm_data[column]=normalize(data[column])\n",
    "    norm_data['TARGET'] = normalize(data['TARGET'])\n",
    "    #print(norm_data)\n",
    "    \n",
    "    #split the data into K folds\n",
    "    folds = fold(norm_data,K)\n",
    "   \n",
    "    #for each of the folds, grab one and use it as test data on the rest\n",
    "    for f in range(len(folds)):\n",
    "        \n",
    "        test_data = folds.pop()\n",
    "        #do your neighbors magic\n",
    "        \n",
    "        #we need to transform the folds into a format that makes sense for the compare_test function\n",
    "        test_data_df = pd.DataFrame(test_data)\n",
    "        folds_df = pd.DataFrame(folds[0])\n",
    "        for sublist in range(1,len(folds)):\n",
    "            folds_df.append(folds[sublist])   \n",
    "            \n",
    "        #should be dataframes\n",
    "        #print(type(folds_df))\n",
    "        #print(type(test_data))\n",
    "        \n",
    "        temp_rmse = compare_test(folds_df,test_data_df,k,L,features)\n",
    "        rmse+=temp_rmse\n",
    "        count+=1\n",
    "        \n",
    "        \n",
    "        #remember to add it back in! we are adding back to the end, so hopefully that works out\n",
    "        folds.append(test_data)\n",
    "\n",
    "        rmse = rmse/count\n",
    "    \n",
    "        \n",
    "        \n",
    "              \n",
    "    \n",
    "    return rmse\n",
    "\n",
    "bdata = load_boston()\n",
    "data = pd.DataFrame(bdata.data)\n",
    "data.columns=bdata.feature_names\n",
    "data['TARGET']=bdata.target\n",
    "\n",
    "rmse_4_model = knn(data,['CRIM', 'ZN', 'RM', 'AGE', 'DIS', 'TAX'],3,2,10)\n",
    "print(rmse_4_model)\n"
   ]
  },
  {
   "cell_type": "markdown",
   "metadata": {},
   "source": [
    "### 3.7 Using cross validation to find K\n",
    "\n",
    "What is the best choice of K?  Compute the RMSE for values of K between 1 and 25 using 10-fold cross-validation.  Use the following features in your model, and don't forget to normalize: CRIM, ZN, RM, AGE, DIS, TAX.  Create a graph that shows how RMSE changes as K increases from 1 to 25.  Label your axes, and summarize what you see.  What do you think is a reasonable choice of K for this model?"
   ]
  },
  {
   "cell_type": "code",
   "execution_count": 21,
   "metadata": {},
   "outputs": [
    {
     "name": "stdout",
     "output_type": "stream",
     "text": [
      "0.09230241034538579 9\n"
     ]
    }
   ],
   "source": [
    "#check all these vals of k and find the best one\n",
    "rmses_list = []\n",
    "current_rmse = 100000\n",
    "best_k = 0\n",
    "for k in range(1,25):\n",
    "    temp_rmse_4_k = knn(data,['CRIM', 'ZN', 'RM', 'AGE', 'DIS', 'TAX'],k,2,10)\n",
    "    print(temp_rmse_4_k)\n",
    "    rmses_list.append(temp_rmse_4_k)\n",
    "    #find best\n",
    "    if temp_rmse_4_k < current_rmse:\n",
    "        current_rmse = temp_rmse_4_k\n",
    "        best_k = k\n",
    "print(current_rmse,best_k)\n",
    "\n",
    "     "
   ]
  },
  {
   "cell_type": "markdown",
   "metadata": {},
   "source": [
    "* If I did this correctly, different k values should result in different rmse values. There should be an \"optimal k\", meaning that there is a value of k that yields the smallest error. It is probably \"somewhere in the middle\", meaning that grabbing 1 k will probably overfit, while grabbing too many k will underfit. My code seems to be taking ages. Much apologies.\n",
    "\n",
    "* My best k on this run was 9, with an RMSE of .0923"
   ]
  },
  {
   "cell_type": "code",
   "execution_count": 22,
   "metadata": {},
   "outputs": [
    {
     "data": {
      "image/png": "[encoded data removed]",
      "text/plain": [
       "<Figure size 432x288 with 1 Axes>"
      ]
     },
     "metadata": {},
     "output_type": "display_data"
    }
   ],
   "source": [
    "# enter your code below\n",
    "krange = np.arange(1,25)\n",
    "with plt.xkcd():\n",
    "    plt.scatter(krange, rmses_list, alpha=0.5,color=\"blue\")\n",
    "    plt.xlabel(\"k value\")\n",
    "    plt.ylabel(\"RMSE\")\n",
    "    plt.title(\"RMSE by k\")\n",
    "    plt.show()\n",
    "\n",
    "# instead of having any pattern to it, it just looks dumb. Looks like values of 9 and maybe 16 gave the least error."
   ]
  }
 ],
 "metadata": {
  "kernelspec": {
   "display_name": "Python 3",
   "language": "python",
   "name": "python3"
  },
  "language_info": {
   "codemirror_mode": {
    "name": "ipython",
    "version": 3
   },
   "file_extension": ".py",
   "mimetype": "text/x-python",
   "name": "python",
   "nbconvert_exporter": "python",
   "pygments_lexer": "ipython3",
   "version": "3.7.3"
  }
 },
 "nbformat": 4,
 "nbformat_minor": 1
}
